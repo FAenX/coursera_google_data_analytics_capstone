{
 "cells": [
  {
   "cell_type": "code",
   "execution_count": 2,
   "id": "2310f39e-a41c-4259-aac5-67fd4185fd97",
   "metadata": {},
   "outputs": [],
   "source": [
    "from pyspark.sql import SparkSession\n",
    "import matplotlib.pyplot as plt\n",
    "import numpy as np\n",
    "from pyspark.sql.functions import year\n",
    "import cartopy.crs as crs\n",
    "import cartopy.feature as cfeature\n",
    "\n",
    "\n",
    "\n",
    "# COMMAND ----------\n",
    "    \n",
    "    "
   ]
  },
  {
   "cell_type": "code",
   "execution_count": 3,
   "id": "c15065d8-1ba0-4645-9258-2d2f4413974e",
   "metadata": {},
   "outputs": [],
   "source": [
    "spark = SparkSession.builder.getOrCreate()\n",
    "df = spark.read.format('csv').option(\"header\", True).load(\"bella_beat_csv/\")\n",
    "df = df.na.drop()\n",
    "df.createOrReplaceTempView(\"table\")"
   ]
  },
  {
   "cell_type": "code",
   "execution_count": 5,
   "id": "b23da580-3669-4061-a1ae-15bd85da2fcc",
   "metadata": {},
   "outputs": [],
   "source": [
    "count_casual_females_2016 = spark.sql(\"\"\"\n",
    "                              SELECT *  FROM table \n",
    "                              \n",
    "                              \n",
    "                              \"\"\")"
   ]
  },
  {
   "cell_type": "code",
   "execution_count": 6,
   "id": "82bcb1c3-1e33-4006-a08e-89981fa5f589",
   "metadata": {},
   "outputs": [
    {
     "name": "stdout",
     "output_type": "stream",
     "text": [
      "+----------+--------------------+-----+\n",
      "|        Id|                Time|Value|\n",
      "+----------+--------------------+-----+\n",
      "|2022484408|4/12/2016 7:21:00 AM|   97|\n",
      "|2022484408|4/12/2016 7:21:05 AM|  102|\n",
      "|2022484408|4/12/2016 7:21:10 AM|  105|\n",
      "|2022484408|4/12/2016 7:21:20 AM|  103|\n",
      "|2022484408|4/12/2016 7:21:25 AM|  101|\n",
      "|2022484408|4/12/2016 7:22:05 AM|   95|\n",
      "|2022484408|4/12/2016 7:22:10 AM|   91|\n",
      "|2022484408|4/12/2016 7:22:15 AM|   93|\n",
      "|2022484408|4/12/2016 7:22:20 AM|   94|\n",
      "|2022484408|4/12/2016 7:22:25 AM|   93|\n",
      "|2022484408|4/12/2016 7:22:35 AM|   92|\n",
      "|2022484408|4/12/2016 7:22:40 AM|   89|\n",
      "|2022484408|4/12/2016 7:22:50 AM|   83|\n",
      "|2022484408|4/12/2016 7:22:55 AM|   61|\n",
      "|2022484408|4/12/2016 7:23:00 AM|   60|\n",
      "|2022484408|4/12/2016 7:23:10 AM|   61|\n",
      "|2022484408|4/12/2016 7:23:25 AM|   61|\n",
      "|2022484408|4/12/2016 7:23:30 AM|   57|\n",
      "|2022484408|4/12/2016 7:23:40 AM|   54|\n",
      "|2022484408|4/12/2016 7:23:50 AM|   55|\n",
      "+----------+--------------------+-----+\n",
      "only showing top 20 rows\n",
      "\n"
     ]
    }
   ],
   "source": [
    "count_casual_females_2016.show()"
   ]
  },
  {
   "cell_type": "code",
   "execution_count": null,
   "id": "d2430bff-1aa2-4056-8074-3bc8921cbe70",
   "metadata": {},
   "outputs": [],
   "source": []
  }
 ],
 "metadata": {
  "kernelspec": {
   "display_name": "Python 3 (ipykernel)",
   "language": "python",
   "name": "python3"
  },
  "language_info": {
   "codemirror_mode": {
    "name": "ipython",
    "version": 3
   },
   "file_extension": ".py",
   "mimetype": "text/x-python",
   "name": "python",
   "nbconvert_exporter": "python",
   "pygments_lexer": "ipython3",
   "version": "3.10.8"
  },
  "vscode": {
   "interpreter": {
    "hash": "5c7b89af1651d0b8571dde13640ecdccf7d5a6204171d6ab33e7c296e100e08a"
   }
  }
 },
 "nbformat": 4,
 "nbformat_minor": 5
}
