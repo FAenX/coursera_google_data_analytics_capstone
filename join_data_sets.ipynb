{
 "cells": [
  {
   "cell_type": "code",
   "execution_count": 10,
   "id": "9c8e852f-a94d-4ec1-9da0-e9b67f0e4898",
   "metadata": {},
   "outputs": [],
   "source": [
    "from pyspark.sql import SparkSession\n",
    "from pyspark.sql.types import *\n",
    "\n",
    "\n",
    "spark = SparkSession.builder.getOrCreate()"
   ]
  },
  {
   "cell_type": "code",
   "execution_count": 11,
   "id": "412fc612-b525-44f4-a7b8-d6b041632708",
   "metadata": {},
   "outputs": [],
   "source": [
    "df1 = spark.read.format('csv').option(\"header\", True).load(\"to_merge/Book1.csv\")\n",
    "df2 = spark.read.format('csv').option(\"header\", True).load(\"to_merge/Book2.csv\")"
   ]
  },
  {
   "cell_type": "code",
   "execution_count": 12,
   "id": "b2fe418c-f6cc-405b-8927-65d058dcef21",
   "metadata": {},
   "outputs": [
    {
     "name": "stdout",
     "output_type": "stream",
     "text": [
      "+---------+------------------+\n",
      "|AccountID|              Name|\n",
      "+---------+------------------+\n",
      "|      ABC|   Atlanta Account|\n",
      "|    RE233|Reno Store Account|\n",
      "+---------+------------------+\n",
      "\n",
      "+---------+--------+---------+-----+\n",
      "|AccountID|Quantity|     Date|Price|\n",
      "+---------+--------+---------+-----+\n",
      "|      ABC|       1|10/5/2022|   13|\n",
      "|    RE233|       6|10/1/2022|    2|\n",
      "|    98DSS|      12|10/4/2022|   33|\n",
      "+---------+--------+---------+-----+\n",
      "\n"
     ]
    }
   ],
   "source": [
    "df1.show()\n",
    "df2.show()"
   ]
  },
  {
   "cell_type": "code",
   "execution_count": 13,
   "id": "40d2355e-4544-40b9-a82b-40fc1283e2cc",
   "metadata": {},
   "outputs": [],
   "source": [
    "df1.createOrReplaceTempView(\"table1\")\n",
    "df2.createOrReplaceTempView(\"table2\")\n"
   ]
  },
  {
   "cell_type": "code",
   "execution_count": 15,
   "id": "9a29fbf2-03c3-44db-8938-6c45792d0be9",
   "metadata": {},
   "outputs": [
    {
     "name": "stdout",
     "output_type": "stream",
     "text": [
      "+-----------+-----------+------------------+--------+---------+-----+\n",
      "|AccountID_1|AccountID_2|              Name|Quantity|     Date|Price|\n",
      "+-----------+-----------+------------------+--------+---------+-----+\n",
      "|        ABC|        ABC|   Atlanta Account|       1|10/5/2022|   13|\n",
      "|      RE233|      RE233|Reno Store Account|       6|10/1/2022|    2|\n",
      "+-----------+-----------+------------------+--------+---------+-----+\n",
      "\n"
     ]
    }
   ],
   "source": [
    "df_joined = spark.sql(\"\"\"\n",
    "                     SELECT t1.AccountID as AccountID_1, t2.AccountID as AccountID_2, t1.Name, t2.Quantity, t2.Date, t2.Price\n",
    "                     FROM table1 t1 \n",
    "                     LEFT OUTER JOIN table2 t2 \n",
    "                     ON t1.AccountID = t2.AccountId\n",
    "                      \"\"\")\n",
    "\n",
    "# df_joined.write.format(\"parquet\").option(\"header\", True).save(\"to_merge/book_1.parquet\")\n",
    "\n",
    "df_joined.show()"
   ]
  },
  {
   "cell_type": "code",
   "execution_count": null,
   "id": "02ee9ba9-bb57-4bdc-b837-2745739a9cd5",
   "metadata": {},
   "outputs": [],
   "source": []
  }
 ],
 "metadata": {
  "kernelspec": {
   "display_name": "Python 3 (ipykernel)",
   "language": "python",
   "name": "python3"
  },
  "language_info": {
   "codemirror_mode": {
    "name": "ipython",
    "version": 3
   },
   "file_extension": ".py",
   "mimetype": "text/x-python",
   "name": "python",
   "nbconvert_exporter": "python",
   "pygments_lexer": "ipython3",
   "version": "3.10.8"
  }
 },
 "nbformat": 4,
 "nbformat_minor": 5
}
